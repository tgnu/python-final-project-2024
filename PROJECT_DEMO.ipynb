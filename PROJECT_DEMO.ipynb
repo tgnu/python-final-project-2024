{
 "cells": [
  {
   "cell_type": "code",
   "execution_count": 1,
   "id": "1d62edcf-5390-4a27-bdec-6fbf0f315220",
   "metadata": {},
   "outputs": [],
   "source": [
    "import ipywidgets as widgets\n",
    "from IPython.display import display, HTML, Javascript\n",
    "import os\n",
    "\n",
    "# THIS IS A DEMO"
   ]
  },
  {
   "cell_type": "code",
   "execution_count": 3,
   "id": "0a42cb69-ea9c-4499-a305-9988bc906f9c",
   "metadata": {},
   "outputs": [
    {
     "data": {
      "text/html": [
       "\n",
       "<div id=\"drop-area\" style=\"width: 100%; height: 200px; border: 2px dashed #cccccc; display: flex; align-items: center; justify-content: center; font-size: 18px;\">\n",
       "    Drag and drop your video file here\n",
       "</div>\n",
       "<video id=\"video-player\" controls style=\"width: 100%; max-height: 500px; display: none;\"></video>\n",
       "<button type=\"button\" id=\"remove-video\" style=\"width: 25%; height: 50px; display: none;\">Remove Video</button>\n",
       "<script>\n",
       "var dropArea = document.getElementById('drop-area');\n",
       "var videoPlayer = document.getElementById('video-player');\n",
       "var removeButton = document.getElementById('remove-video');\n",
       "dropArea.addEventListener('dragover', function(event) {\n",
       "    event.preventDefault();\n",
       "});\n",
       "\n",
       "dropArea.addEventListener('drop', function(event) {\n",
       "    event.preventDefault();\n",
       "    var file = event.dataTransfer.files[0];\n",
       "    if (file && file.type.startsWith('video/')) {\n",
       "        var videoURL = URL.createObjectURL(file);\n",
       "        videoPlayer.src = videoURL;\n",
       "        videoPlayer.style.display = 'block';\n",
       "        removeButton.style.display = 'inline';\n",
       "    } else {\n",
       "        alert('Please drop a valid video file');\n",
       "    }\n",
       "    \n",
       "});\n",
       "removeButton.addEventListener('click', function(event){\n",
       "    videoPlayer.src = ''\n",
       "    videoPlayer.style.display = 'none';\n",
       "    removeButton.style.display = 'none';\n",
       "});\n",
       "</script>\n"
      ],
      "text/plain": [
       "<IPython.core.display.HTML object>"
      ]
     },
     "metadata": {},
     "output_type": "display_data"
    }
   ],
   "source": [
    "#DEMO AREA\n",
    "html = \"\"\"\n",
    "<div id=\"drop-area\" style=\"width: 100%; height: 200px; border: 2px dashed #cccccc; display: flex; align-items: center; justify-content: center; font-size: 18px;\">\n",
    "    Drag and drop your video file here\n",
    "</div>\n",
    "<video id=\"video-player\" controls style=\"width: 100%; max-height: 500px; display: none;\"></video>\n",
    "<button type=\"button\" id=\"remove-video\" style=\"width: 25%; height: 50px; display: none;\">Remove Video</button>\n",
    "<script>\n",
    "var dropArea = document.getElementById('drop-area');\n",
    "var videoPlayer = document.getElementById('video-player');\n",
    "var removeButton = document.getElementById('remove-video');\n",
    "dropArea.addEventListener('dragover', function(event) {\n",
    "    event.preventDefault();\n",
    "});\n",
    "\n",
    "dropArea.addEventListener('drop', function(event) {\n",
    "    event.preventDefault();\n",
    "    var file = event.dataTransfer.files[0];\n",
    "    if (file && file.type.startsWith('video/')) {\n",
    "        var videoURL = URL.createObjectURL(file);\n",
    "        videoPlayer.src = videoURL;\n",
    "        videoPlayer.style.display = 'block';\n",
    "        removeButton.style.display = 'inline';\n",
    "    } else {\n",
    "        alert('Please drop a valid video file');\n",
    "    }\n",
    "    \n",
    "});\n",
    "removeButton.addEventListener('click', function(event){\n",
    "    videoPlayer.src = ''\n",
    "    videoPlayer.style.display = 'none';\n",
    "    removeButton.style.display = 'none';\n",
    "});\n",
    "</script>\n",
    "\"\"\"\n",
    "\n",
    "display(HTML(html))"
   ]
  }
 ],
 "metadata": {
  "kernelspec": {
   "display_name": "Python 3 (ipykernel)",
   "language": "python",
   "name": "python3"
  },
  "language_info": {
   "codemirror_mode": {
    "name": "ipython",
    "version": 3
   },
   "file_extension": ".py",
   "mimetype": "text/x-python",
   "name": "python",
   "nbconvert_exporter": "python",
   "pygments_lexer": "ipython3",
   "version": "3.12.4"
  }
 },
 "nbformat": 4,
 "nbformat_minor": 5
}
